{
 "cells": [
  {
   "cell_type": "markdown",
   "metadata": {},
   "source": [
    "# Tree Models in Machine Learning\n",
    "\n",
    "**Compiled by: Ibrahim Alabi (Computing PhD, Data Science, Boise State University)**"
   ]
  },
  {
   "cell_type": "markdown",
   "metadata": {},
   "source": [
    "## Learning Objectives\n",
    "\n",
    "1. Understand the goals and main concepts of a Machine Learning Algorithm\n",
    "2. Prepare a SnowEx dataset (InSAR) for Machine Learning\n",
    "3. Understand the fundamental types of and techniques in Machine Learning\n",
    "4. Implement Machine Learning (tree model) with a SnowEx dataset\n",
    "5. Steps to deploy a Machine Learning Model"
   ]
  },
  {
   "cell_type": "markdown",
   "metadata": {},
   "source": [
    "## What is Machine Learning?\n",
    "\n",
    "Machine Learning simply means building algorithms or computer models using data. The goal is to use these \"trained\" computer models to make decisions. \n",
    "\n",
    "Here is a general definition;\n",
    "\n",
    "> Machine Learning is the field of study that gives computers the ability to learn without being explicitly programmed (Arthur Samuel, 1959).\n",
    "\n",
    "Over the years, ML algorithms have achieved great success in a wide variety of fields. Today, we will build **tree models** that predicts total snow depth L-band products."
   ]
  },
  {
   "cell_type": "markdown",
   "metadata": {},
   "source": [
    "## Machine Learning Vs. Traditional Programming\n",
    "\n",
    "Machine Learning (ML) and traditional programming are two different paradigms used to solve problems and create intelligent systems. The primary difference lies in how they are instructed to solve a problem.\n",
    "\n",
    "### Task\n",
    "\n",
    "Suppose we want to build an intelligent system that identifies whether a given number is even or odd. This intelligent system can be represented mathematically as:\n",
    "\n",
    "$$y = f(x)$$\n",
    "\n",
    "Where:\n",
    "\n",
    "   * $x \\to$ the number entered also called a feature\n",
    "   * $y \\to$ the outcome we want to predict\n",
    "   * $f \\to$ the model that gets the job done\n",
    "\n",
    "### Traditional Programming Approach\n",
    "\n",
    "In traditional programming, the programmer writes explicit rules (code) for the program to follow. The system follows these instructions exactly to produce a solution.\n",
    "\n",
    "```\n",
    "def check_even_odd(number):\n",
    "    if number % 2 == 0:\n",
    "        return \"Even\"\n",
    "    else:\n",
    "        return \"Odd\"\n",
    "\n",
    "# Usage\n",
    "result = check_even_odd(4)  # Output: Even\n",
    "```\n",
    "\n",
    ":::{figure-md} flowchart\n",
    "<img src=\"./Images/traditional_programming_flowchart.jpeg\"  width= \"500px\">\n",
    "The Traditional Approach\n",
    ":::\n",
    "\n",
    "### Machine Learning Approach\n",
    "\n",
    "In Machine Learning, instead of writing explicit instructions, we provide a model with data and let it learn the patterns. The model, after training, can then make predictions or decisions based on what it has learned. \n",
    "\n",
    "<div style=\"text-align:center\">\n",
    "    <figure>\n",
    "        <img src=\"./Images/ML_flowchart.jpeg\" alt=\"Drawing\" style=\"width: 500px;\"/>\n",
    "        <figcaption>The Machine Learning Approach</figcaption>\n",
    "    </figure>\n",
    "</div>\n",
    "\n",
    "**Machine Learning is useful when the function cannot be programmed or the relationship between the features and outcome is unknown.**"
   ]
  },
  {
   "cell_type": "markdown",
   "metadata": {},
   "source": [
    "## Predicting Total Snow Depth with L-band InSAR Products\n",
    "\n",
    "Now we will import data from the 2017 SnowEx Airborne Campaign.\n",
    "\n",
    "### Motivation \n",
    "\n",
    "Preparing the ground for the [NASA-ISRO (Indian Space Research Organisation)](https://nisar.jpl.nasa.gov/) (NISAR) mission. The NISAR satellite mission is slated to observe nearly all of Earth’s terrestrial and ice surfaces at ∼10 m resolution and with a revisit frequency of twice every 12 days. We want to show a potential way to analyze NISAR-like data when it becomes available in the future.\n",
    "\n",
    "### Task\n",
    "\n",
    "To predict total snow depth from L-band InSAR products.\n",
    "\n",
    "In Machine Learning terminologies, the data contains the following features;\n",
    "\n",
    "- unwrapped phase\n",
    "- coherence\n",
    "- vegetation height\n",
    "- bare earth DEM\n",
    "- incidence angle\n",
    "\n",
    "\n",
    "and outcome\n",
    "\n",
    "- snow depth\n",
    "\n",
    "The goal is to use the data to learn the computer model $f$ so that\n",
    "\n",
    "snow depth = $f$(phase, coherence, amplitude, incidence angle) \n",
    "\n",
    "Once $f$ is learned, it can be used to predict snow depth given the features."
   ]
  },
  {
   "cell_type": "markdown",
   "metadata": {},
   "source": [
    "## About the Data\n",
    "\n",
    "Features are the observations from the Lband InSAR (UAVSAR) in 2017 over Grand Mesa.  Note that we are only using measurements from the airborne instrument flying at 40,000 ft above the ground (no other ground or aircraft data).\n",
    "\n",
    "The output/response you are predicting is total snow depth from the airborne LiDAR survey around the same time in February 2017.  While UAVSAR should be more related to snow depth change, rather than total snow depth, we know that snow patterns can be consistent and so total snow depth (before melt starts) should be similar to snow depth change patterns.\n",
    "\n",
    "You can read more about SAR and InSAR here: [link](https://www.earthdata.nasa.gov/learn/backgrounders/what-is-sar)"
   ]
  },
  {
   "cell_type": "markdown",
   "metadata": {},
   "source": [
    "## Setup\n",
    "\n",
    "Load libraries:"
   ]
  },
  {
   "cell_type": "code",
   "execution_count": null,
   "metadata": {},
   "outputs": [],
   "source": [
    "import pandas as pd\n",
    "import seaborn as sns\n",
    "import matplotlib.pyplot as plt\n",
    "\n",
    "# machine learning packages\n",
    "from sklearn import set_config\n",
    "from sklearn.model_selection import train_test_split\n",
    "\n",
    "set_config(display='diagram', transform_output=\"pandas\")"
   ]
  },
  {
   "cell_type": "markdown",
   "metadata": {},
   "source": [
    "## Load Dataset\n",
    "\n",
    "Note that this dataset has been cleaned in a separate notebook, and it is available for anyone interested."
   ]
  },
  {
   "cell_type": "code",
   "execution_count": null,
   "metadata": {},
   "outputs": [],
   "source": [
    "dataset = pd.read_csv(\"./Data/insar_snowdepth.csv\")\n",
    "dataset.info()\n",
    "dataset.head()"
   ]
  },
  {
   "cell_type": "markdown",
   "metadata": {},
   "source": [
    "## Train and Test Sets\n",
    "\n",
    "For the algorithm to learn the relationship pattern between the feature(s) and the outcome variable, it has to be exposed to examples. The dataset containing the examples for training a learning machine is called the *train set* ($\\mathcal{D}^{(tr)}$). \n",
    "\n",
    "On the other hand, the accuracy of an algorithm is measured on how well it predicts the outcome of observations it has not seen before. The dataset containing the observations not used in training the ML algorithm is called the *test set* ($\\mathcal{D}^{(te)}$). \n",
    "\n",
    "In practice, we divide our dataset into train and test sets, train the algorithm on the train set and evaluate its performance on the test set."
   ]
  },
  {
   "cell_type": "code",
   "execution_count": null,
   "metadata": {},
   "outputs": [],
   "source": [
    "X_train, X_test, y_train, y_test = train_test_split(\n",
    "    dataset.drop(\"snow_depth\", axis=1),\n",
    "    dataset[\"snow_depth\"],\n",
    "    test_size=0.2,\n",
    "    random_state=42,\n",
    ") # random_state is used to make sure that the split is always the same"
   ]
  },
  {
   "cell_type": "markdown",
   "metadata": {},
   "source": [
    "### Inspect the Data\n",
    "\n",
    "**Visualization**\n",
    "\n",
    "Before modelling, it is always a good idea to visualize our dataset. With visualization, we gain insights into the relationships between the variables and the shape of the distribution of each variable. For this data, we shall look into the scatterplot matrix.\n",
    "\n",
    "**Note:** spatial plots are available in the data cleaning notebook."
   ]
  },
  {
   "cell_type": "code",
   "execution_count": null,
   "metadata": {},
   "outputs": [],
   "source": [
    "sns.pairplot(\n",
    "    X_train.assign(snow_depth=y_train),\n",
    "    diag_kind=\"kde\",\n",
    ");"
   ]
  },
  {
   "cell_type": "markdown",
   "metadata": {},
   "source": [
    "Each panel (excluding the main diagonal) of the scatterplot matrix is a scatterplot for a pair of variables whose identities are given by the corresponding row and column labels. The main diagonal is density plot for each variable. None of the features have a linear relationship with *snow_depth*. This may indicate that a linear model might not be the best option."
   ]
  },
  {
   "cell_type": "markdown",
   "metadata": {},
   "source": [
    "**Descriptive Statistics**\n",
    "\n",
    "- count: the size of the training set\n",
    "- mean: arithmetic mean\n",
    "- std: sample standard deviation\n",
    "- min: minimum value\n",
    "- 25%: 25% of the values fall below this number\n",
    "- 50%: $50^{th}$ percentile also called the median. 50% of the values fall below this number and 50% of the values fall above this number\n",
    "- 75%: 75% of the values fall below this number\n",
    "- max: maximum value\n",
    "\n"
   ]
  },
  {
   "cell_type": "code",
   "execution_count": null,
   "metadata": {},
   "outputs": [],
   "source": [
    "X_train.assign(snow_depth=y_train).describe().T"
   ]
  },
  {
   "cell_type": "markdown",
   "metadata": {},
   "source": [
    "## Feature Engineering\n",
    "\n",
    "Feature engineering means different things to different data scientists. However, in this tutorial, we will define feature engineering as the art of manipulating and transforming data into a format that optimally represents the underlying problem.\n",
    "\n",
    "More generally, feature engineering is the process of using your own knowledge about the data and about the machine learning algorithm at hand to make the algorithm work better by applying hardcoded (non-learned) transformations to the data before it goes into the model.\n",
    "\n",
    "### Types of Feature Engineering\n",
    "\n",
    "1. Feature improvement (normalization, missing value imputation, etc.): these techniques deal with augmenting existing structured features through various transformations.\n",
    "2. Feature construction (creating new features from original data): these techniques deal with augmenting existing structured features through various transformations.\n",
    "3. Feature selection (hypthesis testing, information gain from tree-based models): choosing the best set of features from existing ones to reduce the total number of features.\n",
    "4. Feature extraction (e.g. bag of words).\n",
    "\n",
    "**Note: Tree models do not require feature normalization/standardization.**"
   ]
  },
  {
   "cell_type": "markdown",
   "metadata": {},
   "source": [
    "## Why Estimate $f$?\n",
    "\n",
    "We estimate $f$ for two main reasons;\n",
    "\n",
    "1. **Prediction**: in this case, the features $X$ are available, but there is no explicit rule for obtaining the outcome $y$.\n",
    "2. **Inference**: in practice, we are sometimes interested in how changing the input $X$ effects $y$. Inference can tell us which features are significantly associated with a paticular outcome and the nature of the relationship between $X$ and $y$."
   ]
  },
  {
   "cell_type": "markdown",
   "metadata": {},
   "source": [
    "## How Do We Estimate $f$?\n",
    "\n",
    "### Machine Learning Algorithms\n",
    "\n",
    "Machine learning algorithms can be categorized based on different criteria. In this tutorial, our categorization will be based on the amount and type of supervision needed during the training process. Based on this criterion, there are four major categories; supervised learning, unsupervised learning, semisupervised learning, and reinforcement learning. We shall limit our definition to the first two;\n",
    "\n",
    "* **Supervised Learning**: this refers to tasks where we have a specific outcome to predict. That is, every observation of the features has a corresponding outcome. An example of a supervised learning task is predicting snow depth based on some influencing features.\n",
    "\t \n",
    "* **Unsupervised Learning**: this refers to tasks where we have no outcome to predict.  Here, rather than predict an outcome, we seek to understand the relationship between the features or between the observations or to detect anomalous observations. Considering the example above, we assume the snow depth variable does not exist and we either understand the relationship between the features or between the observations based on the features.\n",
    "\n",
    "It is worth noting that a variable can either be categorical or continuous. For now, let's focus on the nature of the **outcome variable**. In *Supervised Learning* parlance, if the outcome variable is categorical, we have a **classification** task and if continuous, we are in the presence of a **regression** task. Categorical implies that the variable is made of distinct categories (e.g. hair color: grey, blonde, black) and continuous implies that the variable is measured (e.g. snow depth). For the rest of this tutorial, we will focus on **Supervised Learning** tasks with a special concentration on regression tasks."
   ]
  },
  {
   "cell_type": "markdown",
   "metadata": {},
   "source": [
    "Most Machine Learning techniques can be characterised as either *parametric* or *non-parametric*. \n",
    "\n",
    "**Parametric:** The parametric approach simplifies the problem of estimating $f$ to a parameter estimation problem. The disadvantage is that we assume a particular shape of $f$ that may not match the true shape of $f$. The major advantage of using parametric approach that when inference is the goal we can understand how changing $X_1, X_2, \\cdots, X_k$ effects $Y$. A common parametric method is the Linear Regression.\n",
    "\n",
    "**Non-parametric:** Non-parametric approaches do not assume any shape for $f$. Instead, they try to estimate $f$ that gets as close to the data points as possible. The disadvantage of non-parametric approaches is that they may require extensive training observations to estimate $f$ accurately. Common examples of non-parametric methods are the tree models."
   ]
  },
  {
   "cell_type": "markdown",
   "metadata": {},
   "source": [
    "## Tree Models\n",
    "\n",
    "Tree models are machine learning algorithms that use tree-based graph structures to predict an output by learning simple decision rules inferred from the features. When we use decision trees for regression tasks, we call them **regression trees**; when we use decision trees for classification tasks, we call them **classification trees**. Subsequently, we use “regression trees” instead of “decision trees” because we will solve a regression problem in this tutorial.\n",
    "\n",
    "### Regression Trees\n",
    "\n",
    "Consider a dataset $\\mathcal{D}_n = \\left\\lbrace (\\textbf{x}_1, y_1), (\\textbf{x}_2, y_2), \\cdots, (\\textbf{x}_n, y_n) \\right\\rbrace$ where $\\textbf{x}_i^\\top \\equiv ({x}_{i1}, {x}_{i2}, \\cdots, {x}_{ik})$ denotes the $k$-dimensional vector of features, and $y_i$ represents the corresponding outcome (continuous in this case).\n",
    "\n",
    "The fundamental concept underlying regression trees is to split the feature space (set of possible values for the features) into two sub-regions. The sub-regions are further divided into two until a stopping criterion is reached. The predicted value of a given observation is the arithmetic mean of the training observations in the region it belongs."
   ]
  },
  {
   "cell_type": "markdown",
   "metadata": {},
   "source": [
    "## Performance Evaluation\n",
    "\n",
    "Each time we estimate the true outcome ($y$) using a trained ML algorithm ($f(\\textbf{x})$), the discrepancy between the observed and predicted must be quantified. The question is, how do we quantify this discrepancy? This brings the notion of **loss function**. \n",
    "\n",
    "*Loss Function* $\\mathcal{L} (\\cdot,\\cdot)$ is a bivariate function that quantifies the loss (error) we sustain from predicting $y$ with $f(\\textbf{x})$. Put another way, **loss function** quantifies how close the prediction $f(\\textbf{x})$ is to the ground truth $y$.\n",
    "\n",
    "* Regression Loss Function\n",
    "\n",
    "There exists quite a number of ways for which the loss of a regression problem may be quantified. We now illustrate two of them;\n",
    "\n",
    "1. \n",
    "\n",
    "$$\n",
    "\\mathcal{L} (y,f(\\textbf{x})) = (y - f(\\textbf{x}))^2\n",
    "$$\n",
    "\n",
    "This is popularly known as the **squared error loss** and it is simply the square of the difference between the observed and the predicted values. The loss is squared so that the function reaches its minimum (convex).\n",
    "\n",
    "2.\n",
    "\n",
    "$$\n",
    "\\mathcal{L} (y,f(\\textbf{x})) = |y - f(\\textbf{x})|\n",
    "$$\n",
    "\n",
    "Another way to quantify regression loss is by taking the absolute value of the difference between the observed ($y$) and the predicted ($f(\\textbf{x})$) values. This is called the $L_1$ loss.\n",
    "\n",
    "It is worth noting that the *loss function* as defined above corresponds to a single observation. However, in practice, we want to quantify the loss over the entire dataset and this is where the notion of **empirical risk** comes in. Loss quantified over the entire dataset is called the *empirical risk*. Our goal in ML is to develop an algorithm such that the *empirical risk* is as minimum as possible. *Empirical risk* is also called the *cost function* or the *objective function* we want to minimize.\n",
    "\n",
    "* Regression Empirical Risk\n",
    "\n",
    "$$\n",
    "\\widehat{\\mathcal{R}}_n(f) = \\frac{1}{n}\\sum_{i=1}^n{\\mathcal{L}(y_i, \\textbf{x}_i)}\n",
    "$$\n",
    "\n",
    "The empirical risk corresponding to the squared error loss is called \"mean squared error\", while the empirical risk corresponding to the L1 loss is called \"mean absolute error\". Other Regression Loss functions can be found at [Keras: losses](https://keras.io/api/losses/)."
   ]
  },
  {
   "cell_type": "markdown",
   "metadata": {},
   "source": [
    "### Regression Tree in Practice\n",
    "\n",
    "The sklearn documentation for regression tree can be found [here](https://scikit-learn.org/stable/modules/generated/sklearn.tree.DecisionTreeRegressor.html)."
   ]
  },
  {
   "cell_type": "code",
   "execution_count": null,
   "metadata": {},
   "outputs": [],
   "source": [
    "import matplotlib.pyplot as plt\n",
    "\n",
    "from sklearn.tree import DecisionTreeRegressor, plot_tree"
   ]
  },
  {
   "cell_type": "code",
   "execution_count": null,
   "metadata": {},
   "outputs": [],
   "source": [
    "tree = DecisionTreeRegressor(random_state=0, max_depth=2)  ## random_state=0 for reproducible results\n",
    "tree.fit(X_train, y_train)"
   ]
  },
  {
   "cell_type": "code",
   "execution_count": null,
   "metadata": {},
   "outputs": [],
   "source": [
    "features = list(X_train.columns)\n",
    "\n",
    "plt.figure(figsize = (20, 8))\n",
    "plot_tree(tree, \n",
    "          filled = True, \n",
    "          fontsize = 12,\n",
    "          node_ids = True,\n",
    "          rounded = True,\n",
    "          proportion=True,\n",
    "         feature_names= features)\n",
    "plt.show()"
   ]
  },
  {
   "cell_type": "markdown",
   "metadata": {},
   "source": [
    "### Now let's explain the regression tree above\n",
    "\n",
    "The root node (node #0) assigns values of **bare_eart_dem** lesser than or equal to 3076.523 to the right branch and values of **bare_eart_dem** greater than 3076.523 to the left node. Observations with **bare_eart_dem** lesser than or equal to 3076.523 are further partitioned based on **unwrapped_phase** values. Overall, the regression tree splits the observations into four disjoint groups or regions ($R_i$) of the feature space.\n",
    "\n",
    "\\begin{align*}\n",
    "R_1 &= \\left\\lbrace  X \\ | \\ \\text{bare\\_earth\\_dem} \\le 3076.523,\\ \\text{unwrapped\\_phase} \\le -8.048 \\right\\rbrace & \\hat{y}_{R_1} = 0.941 \\\\\n",
    "R_2 &= \\left\\lbrace  X \\ | \\ \\text{bare\\_earth\\_dem} \\le 3076.523,\\ \\text{unwrapped\\_phase} > -8.048 \\right\\rbrace & \\hat{y}_{R_2} = 1.159 \\\\\n",
    "R_3 &= \\left\\lbrace  X \\ | \\ \\text{bare\\_earth\\_dem} > 3076.5235,\\ \\text{vegetation\\_height} \\le 9.101 \\right\\rbrace & \\hat{y}_{R_3} = 1.293 \\\\\n",
    "R_4 &= \\left\\lbrace  X \\ | \\ \\text{bare\\_earth\\_dem} > 3076.523,\\ \\text{vegetation\\_height} > 9.101 \\right\\rbrace & \\hat{y}_{R_4} = 1.081 \\\\\n",
    "\\end{align*}\n",
    "\n",
    "\n",
    "where $\\hat{y}_{R_i}$ is the mean of the respective regions. The regions $R_i, \\ i = 1,2,3, 4$ are called **terminal nodes** or **leaves**, the points where the feature space ($\\textbf{x}$) is partitioned are called **internal nodes** and the line segments connecting the nodes are referred to as **branches**. Generally, to know which region an observation belongs to, we ask series of question(s) starting from the root node until we get to the terminal node and the value predicted for the observation is mean of all training observations in that region. Mathematically we write;\n",
    "\n",
    " \\begin{equation}\n",
    " \\hat{y} = \\hat{f}(\\text{x}) = \\frac{1}{|R_j|} \\sum_{i = 1}^{n} y_i 1(\\text{x}_i \\in R_j). \n",
    " \\end{equation}\n",
    "\n",
    " Here, if the $i^{th}$ observation belongs to region $R_j$, the indicator function equals 1, else, it equals zero.\n",
    "\n",
    "* Root node: node #0.\n",
    "* Internal nodes: node #1 and node #4.\n",
    "* Terminal nodes: node #2, node #3, node #5, and node #6.\n",
    "\n",
    "#### How do we construct the regions?\n",
    "\n",
    "We have mentioned the recursive splitting of observations into regions, the natural question that comes to mind is, how do we construct the regions? Our goal is to find regions such that the expected loss is minimized. To perform the recursive binary splitting, we consider all features in the feature space and all possible cut-point(s) for the individual features. The feature and cut-point leading to the greatest reduction in expected loss are chosen for splitting. This process is then continued until a stopping criterion is reached. A stopping criterion could be until no region contains more than five observations. In sklearn, the stopping criterion is controlled by `max_depth` and `min_samples_split`."
   ]
  },
  {
   "cell_type": "markdown",
   "metadata": {},
   "source": [
    "## How to make predictions\n",
    "\n",
    "An example:"
   ]
  },
  {
   "cell_type": "code",
   "execution_count": null,
   "metadata": {},
   "outputs": [],
   "source": [
    "sample= X_train.sample(1, random_state=42)\n",
    "sample"
   ]
  },
  {
   "cell_type": "code",
   "execution_count": null,
   "metadata": {},
   "outputs": [],
   "source": [
    "tree.predict(sample)"
   ]
  },
  {
   "cell_type": "markdown",
   "metadata": {},
   "source": [
    "* bare earth DEM is greater than 3076.523 and vegetation height is lesser than 9.101. This falls in region one ($R_3$), and our prediction will be 1.293."
   ]
  },
  {
   "cell_type": "markdown",
   "metadata": {},
   "source": [
    "### Feature Importance\n",
    "\n",
    "The total amount by which the empirical risk is decreased due to splits over a given predictor is documented. The larger the value, the more important the variable. [Sklearn's](https://scikit-learn.org/stable/) implementation of variable importance normalizes the variable importance so that they add up to 1. Mathematically, feature importance is computed as:\n",
    "\n",
    "$$I_j= \\sum_j w_jC_j - w_{left(j)}C_{left(j)} - w_{right(j)}C_{right(j)}$$\n",
    "\n",
    "* $I_j$= importance of variable $j$\n",
    "* $C_j$= the MSE of node $j$ \n",
    "* $w_j$= percentage of the observation reaching node $j$"
   ]
  },
  {
   "cell_type": "code",
   "execution_count": null,
   "metadata": {},
   "outputs": [],
   "source": [
    "## compute bare_earth_dem importance\n",
    "\n",
    "imp_bare_earth_dem=0.079 - (0.729*0.08) - (0.271*0.028)\n",
    "\n",
    "\n",
    "print(\"Importance of bare_earth_dem: \", round(imp_bare_earth_dem, 3))"
   ]
  },
  {
   "cell_type": "code",
   "execution_count": null,
   "metadata": {},
   "outputs": [],
   "source": [
    "feature_impotanceRT = pd.DataFrame({\n",
    "    'Unormalized Importance': tree.tree_.compute_feature_importances(normalize=False),\n",
    "    'Normalized Importance': tree.feature_importances_\n",
    "}, index=features)\n",
    "feature_impotanceRT\n"
   ]
  },
  {
   "cell_type": "code",
   "execution_count": null,
   "metadata": {},
   "outputs": [],
   "source": [
    "#plot feature importance (sorted by unnormalized importance)\n",
    "\n",
    "feature_impotanceRT.sort_values(by=\"Unormalized Importance\", ascending=False, inplace=True)\n",
    "\n",
    "plt.subplot(1, 2, 1)\n",
    "feature_impotanceRT[\"Unormalized Importance\"].plot.bar(figsize=(14, 5))\n",
    "plt.xlabel(\"Unormalized Importance\")\n",
    "\n",
    "plt.subplot(1, 2, 2)\n",
    "feature_impotanceRT[\"Normalized Importance\"].plot.bar(figsize=(14, 5))\n",
    "plt.xlabel(\"Normalized Importance\")\n",
    "\n",
    "plt.tight_layout()\n",
    "plt.show()"
   ]
  },
  {
   "cell_type": "markdown",
   "metadata": {},
   "source": [
    "### Exercise:\n",
    "\n",
    "Compute the normalized importance manually and compare it with sklearn's output above."
   ]
  },
  {
   "cell_type": "markdown",
   "metadata": {},
   "source": [
    "## Ensembles\n",
    "\n",
    "An ensemble model is a machine learning technique that combines the predictions from multiple models in order to produce a single, more accurate and robust prediction. The main idea behind ensembles is that by aggregating predictions from multiple models, the individual weaknesses, biases, and variances of each model can be mitigated/averaged out, leading to a better overall performance.\n",
    "\n",
    "### Why Ensemble Models Work:\n",
    "\n",
    "1. Diversity: Different models capture different patterns and nuances in the data. By combining them, you can capture a wider range of patterns and reduce the chance of missing out on certain insights.\n",
    "\n",
    "2. Reduction of Overfitting: Individual models, especially complex ones, might overfit to the training data. By averaging or voting, the overfitting tendencies of individual models can be neutralized.\n",
    "\n",
    "3. Reduction of Variance: The combined predictions from multiple models can lead to reduced variance, especially if the individual models have uncorrelated errors.\n",
    "\n",
    "4. Error Compensation: If different models make different errors on the same data points, these errors can offset each other when predictions are aggregated, leading to a more accurate combined prediction.\n",
    "\n",
    "### Common Ensemble Techniques\n",
    "\n",
    "1. Bagging: Involves training multiple instances of the same model on different subsets of the training data (e.g., Random Forests).\n",
    "\n",
    "2. Boosting: Iteratively trains models where each new model attempts to correct the errors of the combined ensemble of existing models (e.g., AdaBoost, Gradient Boosting).\n",
    "\n",
    "3. Stacking: Uses predictions from multiple models as inputs into another model (the \"meta-learner\") to make the final prediction."
   ]
  },
  {
   "cell_type": "markdown",
   "metadata": {},
   "source": [
    "## Random Forest\n",
    "\n",
    "> If you want to go fast, go alone. If you want to go far, go together (African Proverb).\n",
    "\n",
    "Regression trees suffer from high variance, that is, they have a habit of overfitting the training observations. A straightforward way to reduce the variance is to employ the Random Forest (RF) algorithm. RF is an ensemble learning technique that can be used for both classification and regression.  \n",
    "\n",
    "* **Bagging:** Bagging consists of two words; Bootstrap and Aggregation. Bootstrap is a popular resampling technique where random sub-samples (with replacement) are created from the training data. The individual bootstrapped sub-sample is called a “Bag.” Aggregation, however, means combining the results from machines trained on the respective bags. We could say, given our training data, we generate $B$ bootstrapped training sub-samples from the original training data, then we train an algorithm on the respective bootstrapped sub-sample to obtain $\\hat{f}^1 (\\text{x}), \\hat{f}^2 (\\text{x}), \\cdots , \\hat{f}^B (\\text{x})$. The final predicted value is the average of all the individual predictions and it is given by:\n",
    "\\begin{equation}\n",
    "\\hat{f}_{\\text{bag}} (\\text{x}) = \\frac{1}{B} \\sum_{b = 1}^{B} \\hat{f}^{b} (\\text{x}).\n",
    "\\end{equation}\n",
    "\n",
    "This is bagging! In the RF algorithm, regression trees are built on the different bootstrapped samples and the result is a forest of regression trees, hence the \"forest\" in Random Forest. \n",
    "\n",
    "* **What makes the forest random?**\n",
    "\n",
    "Recall that when training a regression tree, splitting is done at each internal node, however, in the RF algorithm, when building the individual regression trees, only a random sample of the total features is considered for optimal splitting and this is what makes the forest random! In essence, when we combine bagging with random feature selection at each internal node of the constituting regression trees, we are said to have constructed a **Random Forest** learning machine."
   ]
  },
  {
   "cell_type": "markdown",
   "metadata": {},
   "source": [
    "### Training Random Forest\n",
    "\n",
    "Sklearn's documentation for Random Forest Regression can be found [here](https://scikit-learn.org/stable/modules/generated/sklearn.ensemble.RandomForestRegressor.html)."
   ]
  },
  {
   "cell_type": "code",
   "execution_count": null,
   "metadata": {},
   "outputs": [],
   "source": [
    "from sklearn.ensemble import RandomForestRegressor"
   ]
  },
  {
   "cell_type": "code",
   "execution_count": null,
   "metadata": {},
   "outputs": [],
   "source": [
    "rf = RandomForestRegressor(n_estimators=2,max_depth=2,random_state=0)\n",
    "\n",
    "rf.fit(X_train, y_train)"
   ]
  },
  {
   "cell_type": "code",
   "execution_count": null,
   "metadata": {},
   "outputs": [],
   "source": [
    "plt.figure(figsize = (25, 8))\n",
    "\n",
    "plt.subplot(121)\n",
    "plot_tree(rf.estimators_[0], \n",
    "          filled = True, \n",
    "          fontsize = 12,\n",
    "          node_ids = True,\n",
    "          rounded = True,\n",
    "          proportion=True, \n",
    "         feature_names= features)\n",
    "\n",
    "plt.subplot(122)\n",
    "plot_tree(rf.estimators_[1], \n",
    "          filled = True, \n",
    "          fontsize = 12,\n",
    "          node_ids = True,\n",
    "          rounded = True,\n",
    "          proportion=True, \n",
    "         feature_names= features)\n",
    "\n",
    "plt.show()"
   ]
  },
  {
   "cell_type": "markdown",
   "metadata": {},
   "source": [
    "### Making Predictions"
   ]
  },
  {
   "cell_type": "code",
   "execution_count": null,
   "metadata": {},
   "outputs": [],
   "source": [
    "sample"
   ]
  },
  {
   "cell_type": "code",
   "execution_count": null,
   "metadata": {},
   "outputs": [],
   "source": [
    "## Overall predictions\n",
    "\n",
    "rf.predict(sample)"
   ]
  },
  {
   "cell_type": "code",
   "execution_count": null,
   "metadata": {},
   "outputs": [],
   "source": [
    "## Prediction from the first tree\n",
    "\n",
    "rf.estimators_[0].predict(sample.values)"
   ]
  },
  {
   "cell_type": "code",
   "execution_count": null,
   "metadata": {},
   "outputs": [],
   "source": [
    "## Prediction from the second tree\n",
    "\n",
    "rf.estimators_[1].predict(sample.values)"
   ]
  },
  {
   "cell_type": "markdown",
   "metadata": {},
   "source": [
    "Using the same approach as above, the first regression tree predicts 0.7072, and the second regression tree predicts 0.7065. Hence, the final prediction is;\n",
    "\n",
    "$$\\frac{1.2474622+1.20056198}{2} = 1.22401209$$"
   ]
  },
  {
   "cell_type": "markdown",
   "metadata": {},
   "source": [
    "### Feature Importance\n",
    "\n",
    "The total amount by which the squared error loss is decreased due to splits over a given predictor is documented and averaged over all trees in the forest. The larger the value, the more important the variable."
   ]
  },
  {
   "cell_type": "code",
   "execution_count": null,
   "metadata": {},
   "outputs": [],
   "source": [
    "feature_impotanceRF = pd.Series(rf.feature_importances_, index=features)\n",
    "feature_impotanceRF.sort_values().plot(kind = 'bar')\n",
    "plt.xlabel('Feature')\n",
    "plt.ylabel('Importance Score')\n",
    "plt.show()"
   ]
  },
  {
   "cell_type": "markdown",
   "metadata": {},
   "source": [
    "### Exercise:\n",
    "\n",
    "Compute the random forest's normalized importance manually and compare it with sklearn's output above."
   ]
  },
  {
   "cell_type": "markdown",
   "metadata": {},
   "source": [
    "### Putting it all together\n",
    "\n",
    "We'll use Sklearn's [Pipeline](https://scikit-learn.org/stable/modules/generated/sklearn.pipeline.Pipeline.html) to preprocess and fit our model in one shot."
   ]
  },
  {
   "cell_type": "code",
   "execution_count": null,
   "metadata": {},
   "outputs": [],
   "source": [
    "from sklearn.pipeline import Pipeline\n",
    "from sklearn.preprocessing import MinMaxScaler\n"
   ]
  },
  {
   "cell_type": "code",
   "execution_count": null,
   "metadata": {},
   "outputs": [],
   "source": [
    "rf_pipe = Pipeline([\n",
    "    ('Scaler', MinMaxScaler()),\n",
    "    ('regressor', RandomForestRegressor())\n",
    "])\n",
    "\n",
    "rf_pipe.fit(X_train, y_train)"
   ]
  },
  {
   "cell_type": "markdown",
   "metadata": {},
   "source": [
    "### Main Challenges of Machine Learning\n",
    "\n",
    "1. Bad Data (insufficient training data, nonrepresentative training data, irrelevant features).\n",
    "2. Bad Algorithm (overfitting the training the data, underfitting the training data).\n",
    "\n",
    "Hyperparameter tuning is one way to improve our model."
   ]
  },
  {
   "cell_type": "markdown",
   "metadata": {},
   "source": [
    "### Hyperparameter Optimization\n",
    "\n",
    "Hyperameters are parameters that are a step above other model parameters because their values have to be specified before fitting the model. They are not learned during the training process. In practice, different values are often \"tuned\" to obtain the optimal value, called hyperparameter optimization. Hyperparameter optimization is often done via a cross-validation (CV) or validation set approach. \n",
    "\n",
    "* In the validation set approach, we hold out a portion of the training set and use the held-out portion to test the performance of different hyperparameters.\n",
    "* Cross-validation: the training data is divided into *k* disjoint sets. The idea is to use one of the k folds as test set and the remaining k − 1 folds as training set. The algorithm then changes the test set until every fold has served as test set. Performance metric is computed at each iteration and averaged in the end.Sklearn's implementation of grid search cross validation can be found [here](https://scikit-learn.org/stable/modules/generated/sklearn.model_selection.GridSearchCV.html).\n",
    "\n",
    "<div style=\"text-align:center\">\n",
    "    <figure>\n",
    "        <img src=\"./Images/cross_validation.png\" alt=\"Drawing\" style=\"width: 500px;\"/>\n",
    "        <figcaption>Cross Validation for Hyperparameter Tuning</figcaption>\n",
    "    </figure>\n",
    "</div>\n",
    "\n",
    "$\\qquad \\qquad   \\qquad \\qquad \\qquad \\qquad   \\qquad \\qquad \\qquad \\qquad   \\qquad \\qquad \\qquad \\ \\ \\ \\ $ Image Source [Machine Learning Bookcamp](https://www.manning.com/books/machine-learning-bookcamp?query=machine)"
   ]
  },
  {
   "cell_type": "code",
   "execution_count": null,
   "metadata": {},
   "outputs": [],
   "source": [
    "from sklearn.model_selection import GridSearchCV\n",
    "\n",
    "parameter_grid = {'regressor__min_samples_split': [2,3],\n",
    "                  'regressor__n_estimators': [200, 100], \n",
    "                  'regressor__max_depth': [None, 5]}\n",
    "\n",
    "rf_pipeline_CV = GridSearchCV(rf_pipe, parameter_grid, verbose=1, cv=3) ## set njobs = -1 to use all processors. cv defaults to 5\n",
    "rf_pipeline_CV.fit(X_train, y_train)"
   ]
  },
  {
   "cell_type": "code",
   "execution_count": null,
   "metadata": {},
   "outputs": [],
   "source": [
    "print('Best Parameters are: {}'.format(rf_pipeline_CV.best_params_))"
   ]
  },
  {
   "cell_type": "code",
   "execution_count": null,
   "metadata": {},
   "outputs": [],
   "source": [
    "from sklearn.metrics import mean_squared_error"
   ]
  },
  {
   "cell_type": "code",
   "execution_count": null,
   "metadata": {},
   "outputs": [],
   "source": [
    "pred_before_tuning = rf_pipe.predict(X_test)\n",
    "pred_after_tuning = rf_pipeline_CV.predict(X_test)\n",
    "\n",
    "print('RMSE before tuning: {}'.format(round(mean_squared_error(y_test, pred_before_tuning, squared=False), 4)))\n",
    "print('RMSE after tuning: {}'.format(round(mean_squared_error(y_test, pred_after_tuning, squared=False), 4)))"
   ]
  },
  {
   "cell_type": "markdown",
   "metadata": {},
   "source": [
    "## Deploying Machine Learning Models\n",
    "\n",
    "Now, our model lives in a Jupyter Notebook. Once we close our Jupyter Notebook or restart our kernel, the model disappears. How do we take our model out of our Jupyter Notebook? Model deployment is mainly concerned with putting optimal models into use/production. Steps for deploying our machine learning models:\n",
    "\n",
    "1. Save the model (e.g. using pickle)\n",
    "2. Serve the model: this is the process of making the model available to others. This is usually done using web services. A simple way to to implement a web service in Python is to use [Flask](https://flask.palletsprojects.com/en/2.1.x/).\n",
    "3. Deployment: We don't run production services on personal machines, we need special services for that. Sample services include; Amazon Web Services, Google Cloud, Microsoft Azure, and Digital Ocean. These services are used to deploy a web service.\n",
    "\n",
    "Other approaches for model deployments are:\n",
    "\n",
    "* TensorFlow Lite: TensorFlow Lite is a lightweight alternative to “full” TensorFlow. It is a serverless approach that makes deploying models with AWS Lambda faster and simpler.\n",
    "* Kubernetes: it is a powerful but uneasy tool for model deployment. More information can be found [here](https://kubernetes.io/)."
   ]
  },
  {
   "cell_type": "markdown",
   "metadata": {},
   "source": [
    "* Save and load RF model"
   ]
  },
  {
   "cell_type": "code",
   "execution_count": null,
   "metadata": {},
   "outputs": [],
   "source": [
    "import pickle\n",
    "\n",
    "f_out = open('SWE_Prediction_RF.bin', 'wb')\n",
    "pickle.dump(rf_pipe, f_out)\n",
    "f_out.close()\n",
    "\n",
    "\n",
    "## To load model, use;\n",
    "f_in=open('SWE_Prediction_RF.bin', 'rb')\n",
    "reloaded_rf = pickle.load(f_in)\n",
    "f_in.close()"
   ]
  },
  {
   "cell_type": "markdown",
   "metadata": {},
   "source": [
    "### The Machine Learning Pipeline\n",
    "\n",
    "1. Define the problem.\n",
    "2. Obtain a representative dataset.\n",
    "3. Feature engineering.\n",
    "4. Model selection and training.\n",
    "5. Model deployment and evaluation: watch out for **concept drift** (when our interpretation of the data changes) and **data drift** (when the underlying distributions of our data change)."
   ]
  },
  {
   "cell_type": "markdown",
   "metadata": {},
   "source": [
    "## Your Turn \n",
    "\n",
    "Using the same dataset, perform hyperparameter optimization for a range of more comprehensive hyperparameter values and compare the performance of the two models."
   ]
  },
  {
   "cell_type": "markdown",
   "metadata": {},
   "source": [
    "## Acknowledgements\n",
    "\n",
    "* Many thanks to e-Science institute and all organizing members for allowing me deploy/presenting this tutorial. A huge thanks to them for supporting my travel to Seattle.\n",
    "* Many thanks to HP Marshall (my advisor) for allowing me present this tutorial and also suppoerting my travel. "
   ]
  },
  {
   "cell_type": "markdown",
   "metadata": {},
   "source": [
    "## Reference\n",
    "\n",
    "1. [Ensemble Methods for Machine Learning](https://www.manning.com/books/ensemble-methods-for-machine-learning)\n",
    "2. [A Taxonomy of Big Data for Optimal Predictive Machine Learning and Data Mining by Ernest Fokoue](https://arxiv.org/abs/1501.00604)\n",
    "3. [An Introduction to Statistical Learning with Applications in R](https://link.springer.com/book/10.1007%2F978-1-4614-7138-7) (available online for free)\n",
    "4. [Hands-On Machine Learning with Scikit-Learn, Keras, and TensorFlow: Concepts, Tools, and Techniques to Build Intelligent Systems 2nd Edition](https://www.amazon.com/Hands-Machine-Learning-Scikit-Learn-TensorFlow/dp/1492032646)\n",
    "5. [MIT 6.S191: Introduction to Deep Learning](https://www.youtube.com/channel/UCtslD4DGH6PKyG_1gFAX7sg)\n",
    "6. [Intro to Deep Learning (ML Tech Talks)](https://www.youtube.com/watch?v=AhE8RhPGH1A&t=2685s)\n",
    "7. [Deep Learning with Python](https://www.manning.com/books/deep-learning-with-python)\n",
    "8. [Machine Learning Bookcamp](https://www.manning.com/books/machine-learning-bookcamp?query=machine)\n",
    "9. [Feature Engineering Bookcamp](https://www.manning.com/books/feature-engineering-bookcamp)"
   ]
  }
 ],
 "metadata": {
  "kernelspec": {
   "display_name": "Python 3",
   "language": "python",
   "name": "python3"
  },
  "language_info": {
   "codemirror_mode": {
    "name": "ipython",
    "version": 3
   },
   "file_extension": ".py",
   "mimetype": "text/x-python",
   "name": "python",
   "nbconvert_exporter": "python",
   "pygments_lexer": "ipython3",
   "version": "3.11.5"
  }
 },
 "nbformat": 4,
 "nbformat_minor": 2
}
